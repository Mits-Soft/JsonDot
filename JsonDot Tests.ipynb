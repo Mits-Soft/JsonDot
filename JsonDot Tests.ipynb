{
 "cells": [
  {
   "cell_type": "code",
   "execution_count": 8,
   "id": "121dc938",
   "metadata": {},
   "outputs": [],
   "source": [
    "from jsondot.jsondot import JsonDot\n",
    "import json"
   ]
  },
  {
   "cell_type": "code",
   "execution_count": 6,
   "id": "cb76ac04",
   "metadata": {
    "scrolled": true
   },
   "outputs": [
    {
     "data": {
      "text/plain": [
       "'{\"Nombre\": \"Pinocho\", \"Apellido\": \"Geppetto\", \"Edad\": 6, \"dirección\":  {\"Calle\": \"Calle Falsa\", \"Número\": 123, \"Ciudad\": \"Ciudad Ficticia\"} , \"gustos\": [ {\"Tipo\": \"música\", \"Nombre\": \"rock\"} ,  {\"Tipo\": \"deporte\", \"Nombre\": \"F1\"} ], \"lista\": [[ {\"nombre\": \"objeto11_edit\", \"situacion\": \"dentro de una lista 0 1\"} ,  {\"nombre\": \"objeto12\", \"situacion\": \"dentro de una lista 0 2\"} ], [ {\"nombre\": \"objeto21\", \"situacion\": \"dentro de una lista 1 1\"} ,  {\"nombre\": \"objeto22\", \"situacion\": \"dentro de una lista 12\"} ]]}'"
      ]
     },
     "execution_count": 6,
     "metadata": {},
     "output_type": "execute_result"
    }
   ],
   "source": [
    "json_dot = JsonDot()\n",
    "dot = json_dot.load(\"examples/example.json\")\n",
    "ds = dot.dumps()\n",
    "fds = JsonDot().format_json(ds)\n",
    "fds"
   ]
  },
  {
   "cell_type": "code",
   "execution_count": 10,
   "id": "a2d83feb",
   "metadata": {},
   "outputs": [
    {
     "data": {
      "text/plain": [
       "{'Nombre': 'Pinocho',\n",
       " 'Apellido': 'Geppetto',\n",
       " 'Edad': 6,\n",
       " 'dirección': {'Calle': 'Calle Falsa',\n",
       "  'Número': 123,\n",
       "  'Ciudad': 'Ciudad Ficticia'},\n",
       " 'gustos': [{'Tipo': 'música', 'Nombre': 'rock'},\n",
       "  {'Tipo': 'deporte', 'Nombre': 'F1'}],\n",
       " 'lista': [[{'nombre': 'objeto11_edit',\n",
       "    'situacion': 'dentro de una lista 0 1'},\n",
       "   {'nombre': 'objeto12', 'situacion': 'dentro de una lista 0 2'}],\n",
       "  [{'nombre': 'objeto21', 'situacion': 'dentro de una lista 1 1'},\n",
       "   {'nombre': 'objeto22', 'situacion': 'dentro de una lista 12'}]]}"
      ]
     },
     "execution_count": 10,
     "metadata": {},
     "output_type": "execute_result"
    }
   ],
   "source": [
    "jd = json.loads(fds)\n",
    "jd"
   ]
  }
 ],
 "metadata": {
  "kernelspec": {
   "display_name": "Python 3 (ipykernel)",
   "language": "python",
   "name": "python3"
  },
  "language_info": {
   "codemirror_mode": {
    "name": "ipython",
    "version": 3
   },
   "file_extension": ".py",
   "mimetype": "text/x-python",
   "name": "python",
   "nbconvert_exporter": "python",
   "pygments_lexer": "ipython3",
   "version": "3.10.7"
  }
 },
 "nbformat": 4,
 "nbformat_minor": 5
}
